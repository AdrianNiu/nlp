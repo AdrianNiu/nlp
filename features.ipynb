{
 "cells": [
  {
   "cell_type": "code",
   "execution_count": 2,
   "metadata": {},
   "outputs": [],
   "source": [
    "from sklearn.feature_extraction import text\n",
    "from sklearn.feature_extraction.text import CountVectorizer, TfidfVectorizer"
   ]
  },
  {
   "cell_type": "code",
   "execution_count": 3,
   "metadata": {},
   "outputs": [],
   "source": [
    "corpus = ['The car is driven on the road.',\n",
    "          'The truck is driven on the highway.']"
   ]
  },
  {
   "cell_type": "markdown",
   "metadata": {},
   "source": [
    "# Feature extration\n",
    "\n",
    "## Bag of words"
   ]
  },
  {
   "cell_type": "code",
   "execution_count": 4,
   "metadata": {},
   "outputs": [],
   "source": [
    "vectorizer1 = CountVectorizer()"
   ]
  },
  {
   "cell_type": "code",
   "execution_count": 5,
   "metadata": {},
   "outputs": [],
   "source": [
    "X1 = vectorizer1.fit_transform(corpus)"
   ]
  },
  {
   "cell_type": "code",
   "execution_count": 6,
   "metadata": {},
   "outputs": [
    {
     "name": "stdout",
     "output_type": "stream",
     "text": [
      "['car', 'driven', 'highway', 'is', 'on', 'road', 'the', 'truck']\n"
     ]
    }
   ],
   "source": [
    "print(vectorizer1.get_feature_names())"
   ]
  },
  {
   "cell_type": "code",
   "execution_count": 7,
   "metadata": {},
   "outputs": [
    {
     "name": "stdout",
     "output_type": "stream",
     "text": [
      "[[1 1 0 1 1 1 2 0]\n",
      " [0 1 1 1 1 0 2 1]]\n"
     ]
    }
   ],
   "source": [
    "print(X1.toarray())"
   ]
  },
  {
   "cell_type": "markdown",
   "metadata": {},
   "source": [
    "## TF-IDF"
   ]
  },
  {
   "cell_type": "code",
   "execution_count": 8,
   "metadata": {},
   "outputs": [],
   "source": [
    "vectorizer2 = TfidfVectorizer()"
   ]
  },
  {
   "cell_type": "code",
   "execution_count": 9,
   "metadata": {},
   "outputs": [],
   "source": [
    "X2 = vectorizer2.fit_transform(corpus)"
   ]
  },
  {
   "cell_type": "code",
   "execution_count": 10,
   "metadata": {},
   "outputs": [
    {
     "name": "stdout",
     "output_type": "stream",
     "text": [
      "['car', 'driven', 'highway', 'is', 'on', 'road', 'the', 'truck']\n"
     ]
    }
   ],
   "source": [
    "print(vectorizer2.get_feature_names())"
   ]
  },
  {
   "cell_type": "code",
   "execution_count": 11,
   "metadata": {},
   "outputs": [
    {
     "name": "stdout",
     "output_type": "stream",
     "text": [
      "[[0.42471719 0.30218978 0.         0.30218978 0.30218978 0.42471719\n",
      "  0.60437955 0.        ]\n",
      " [0.         0.30218978 0.42471719 0.30218978 0.30218978 0.\n",
      "  0.60437955 0.42471719]]\n"
     ]
    }
   ],
   "source": [
    "print(X2.toarray())"
   ]
  },
  {
   "cell_type": "markdown",
   "metadata": {},
   "source": [
    "## Stop words removal"
   ]
  },
  {
   "cell_type": "code",
   "execution_count": 12,
   "metadata": {},
   "outputs": [
    {
     "name": "stdout",
     "output_type": "stream",
     "text": [
      "frozenset({'bottom', 'upon', 'nine', 'serious', 'through', 'toward', 'indeed', 'thru', 'where', 'are', 'both', 'three', 'back', 'this', 'nor', 'third', 'former', 'beforehand', 'because', 'together', 'was', 'she', 'afterwards', 'may', 'whereafter', 'give', 'ltd', 'nobody', 'name', 'her', 'last', 'well', 'fill', 'empty', 'any', 'when', 'whom', 'might', 'all', 'would', 'cant', 'always', 'often', 'yourselves', 'forty', 'herein', 'then', 'therein', 'mostly', 'some', 'whence', 'thereby', 'latterly', 'cry', 'take', 'seemed', 'seems', 'become', 'via', 'whatever', 'get', 'hereupon', 'part', 'bill', 'myself', 'amoungst', 'same', 'since', 'somewhere', 'yourself', 'to', 'over', 'thereafter', 'in', 'call', 'enough', 'thin', 'several', 'alone', 'again', 'perhaps', 'with', 'under', 'fire', 'least', 'why', 'such', 'among', 'at', 'during', 'what', 'mine', 'per', 'their', 'whither', 'onto', 'amongst', 'co', 'ten', 'an', 'while', 'moreover', 'six', 'those', 'you', 'from', 'beyond', 'our', 'seem', 'whereby', 'even', 'other', 'therefore', 'down', 'could', 'whole', 'itself', 'hers', 'noone', 'most', 'top', 'whenever', 'although', 'throughout', 'detail', 'we', 'between', 'becomes', 'us', 'ie', 'mill', 'off', 'side', 'which', 'hence', 'four', 'now', 'be', 'only', 'put', 'across', 'as', 'un', 'there', 'first', 'not', 'had', 're', 'it', 'being', 'move', 'behind', 'interest', 'must', 'into', 'somehow', 'herself', 'inc', 'thick', 'until', 'sometimes', 'me', 'much', 'elsewhere', 'one', 'fifty', 'another', 'beside', 'seeming', 'sixty', 'others', 'latter', 'please', 'neither', 'eleven', 'still', 'five', 'without', 'cannot', 'will', 'formerly', 'hereby', 'rather', 'also', 'except', 'besides', 'hasnt', 'them', 'against', 'a', 'if', 'i', 'few', 'nevertheless', 'and', 'have', 'whose', 'towards', 'or', 'the', 'amount', 'before', 'he', 'meanwhile', 'less', 'thus', 'show', 'on', 'anything', 'around', 'never', 'am', 'whether', 'twenty', 'his', 'fifteen', 'describe', 'more', 'find', 'whereas', 'of', 'something', 'further', 'too', 'couldnt', 'whoever', 'eg', 'either', 'him', 'yet', 'within', 'becoming', 'de', 'everywhere', 'yours', 'once', 'how', 'ever', 'but', 'already', 'these', 'do', 'made', 'than', 'sometime', 'for', 'anyhow', 'ourselves', 'became', 'keep', 'been', 'anyone', 'nowhere', 'thereupon', 'wherein', 'next', 'my', 'namely', 'etc', 'twelve', 'front', 'by', 'go', 'they', 'else', 'every', 'everyone', 'who', 'below', 'done', 'many', 'anywhere', 'out', 'two', 'eight', 'very', 'almost', 'everything', 'ours', 'up', 'no', 'sincere', 'system', 'after', 'were', 'wherever', 'so', 'himself', 'is', 'above', 'due', 'see', 'own', 'along', 'about', 'hereafter', 'though', 'none', 'should', 'hundred', 'someone', 'has', 'here', 'however', 'full', 'anyway', 'found', 'con', 'its', 'themselves', 'can', 'nothing', 'otherwise', 'each', 'your', 'thence', 'that', 'whereupon'})\n"
     ]
    }
   ],
   "source": [
    "print (text.ENGLISH_STOP_WORDS)"
   ]
  },
  {
   "cell_type": "code",
   "execution_count": 13,
   "metadata": {},
   "outputs": [],
   "source": [
    "vectorizer_swr = TfidfVectorizer(analyzer = 'word', stop_words = set(text.ENGLISH_STOP_WORDS))"
   ]
  },
  {
   "cell_type": "code",
   "execution_count": 14,
   "metadata": {},
   "outputs": [],
   "source": [
    "vectors = vectorizer_swr.fit_transform(corpus)"
   ]
  },
  {
   "cell_type": "code",
   "execution_count": 15,
   "metadata": {},
   "outputs": [
    {
     "name": "stdout",
     "output_type": "stream",
     "text": [
      "{'car': 0, 'driven': 1, 'road': 3, 'truck': 4, 'highway': 2}\n"
     ]
    }
   ],
   "source": [
    "print(vectorizer_swr.vocabulary_)"
   ]
  },
  {
   "cell_type": "code",
   "execution_count": 16,
   "metadata": {},
   "outputs": [
    {
     "name": "stdout",
     "output_type": "stream",
     "text": [
      "  (0, 3)\t0.6316672017376245\n",
      "  (0, 1)\t0.4494364165239821\n",
      "  (0, 0)\t0.6316672017376245\n",
      "  (1, 2)\t0.6316672017376245\n",
      "  (1, 4)\t0.6316672017376245\n",
      "  (1, 1)\t0.4494364165239821\n"
     ]
    }
   ],
   "source": [
    "print (vectors)"
   ]
  },
  {
   "cell_type": "markdown",
   "metadata": {},
   "source": [
    "## Generating N-grams features"
   ]
  },
  {
   "cell_type": "code",
   "execution_count": 17,
   "metadata": {},
   "outputs": [],
   "source": [
    "vectorizer3 = CountVectorizer(analyzer='word', ngram_range=(2,2))"
   ]
  },
  {
   "cell_type": "code",
   "execution_count": 18,
   "metadata": {},
   "outputs": [],
   "source": [
    "X3 = vectorizer3.fit_transform(corpus)"
   ]
  },
  {
   "cell_type": "code",
   "execution_count": 19,
   "metadata": {},
   "outputs": [
    {
     "name": "stdout",
     "output_type": "stream",
     "text": [
      "['car is', 'driven on', 'is driven', 'on the', 'the car', 'the highway', 'the road', 'the truck', 'truck is']\n"
     ]
    }
   ],
   "source": [
    "print(vectorizer3.get_feature_names())"
   ]
  },
  {
   "cell_type": "code",
   "execution_count": 20,
   "metadata": {},
   "outputs": [
    {
     "name": "stdout",
     "output_type": "stream",
     "text": [
      "[[1 1 1 1 1 0 1 0 0]\n",
      " [0 1 1 1 0 1 0 1 1]]\n"
     ]
    }
   ],
   "source": [
    "print(X3.toarray())"
   ]
  },
  {
   "cell_type": "code",
   "execution_count": 21,
   "metadata": {},
   "outputs": [],
   "source": [
    "vectorizer4 = TfidfVectorizer(analyzer='word', ngram_range=(2,2))"
   ]
  },
  {
   "cell_type": "code",
   "execution_count": 22,
   "metadata": {},
   "outputs": [],
   "source": [
    "X4 = vectorizer4.fit_transform(corpus)"
   ]
  },
  {
   "cell_type": "code",
   "execution_count": 23,
   "metadata": {},
   "outputs": [
    {
     "name": "stdout",
     "output_type": "stream",
     "text": [
      "['car is', 'driven on', 'is driven', 'on the', 'the car', 'the highway', 'the road', 'the truck', 'truck is']\n"
     ]
    }
   ],
   "source": [
    "print(vectorizer4.get_feature_names())"
   ]
  },
  {
   "cell_type": "code",
   "execution_count": 24,
   "metadata": {},
   "outputs": [
    {
     "name": "stdout",
     "output_type": "stream",
     "text": [
      "[[0.47042643 0.33471228 0.33471228 0.33471228 0.47042643 0.\n",
      "  0.47042643 0.         0.        ]\n",
      " [0.         0.33471228 0.33471228 0.33471228 0.         0.47042643\n",
      "  0.         0.47042643 0.47042643]]\n"
     ]
    }
   ],
   "source": [
    "print(X4.toarray())"
   ]
  },
  {
   "cell_type": "code",
   "execution_count": 25,
   "metadata": {},
   "outputs": [],
   "source": [
    "vectorizer5 = CountVectorizer(analyzer='word',ngram_range=(2,5))"
   ]
  },
  {
   "cell_type": "code",
   "execution_count": 26,
   "metadata": {},
   "outputs": [],
   "source": [
    "X5 = vectorizer5.fit_transform(corpus)"
   ]
  },
  {
   "cell_type": "code",
   "execution_count": 27,
   "metadata": {},
   "outputs": [
    {
     "name": "stdout",
     "output_type": "stream",
     "text": [
      "['car is', 'car is driven', 'car is driven on', 'car is driven on the', 'driven on', 'driven on the', 'driven on the highway', 'driven on the road', 'is driven', 'is driven on', 'is driven on the', 'is driven on the highway', 'is driven on the road', 'on the', 'on the highway', 'on the road', 'the car', 'the car is', 'the car is driven', 'the car is driven on', 'the highway', 'the road', 'the truck', 'the truck is', 'the truck is driven', 'the truck is driven on', 'truck is', 'truck is driven', 'truck is driven on', 'truck is driven on the']\n"
     ]
    }
   ],
   "source": [
    "print(vectorizer5.get_feature_names())"
   ]
  },
  {
   "cell_type": "code",
   "execution_count": 28,
   "metadata": {},
   "outputs": [
    {
     "name": "stdout",
     "output_type": "stream",
     "text": [
      "[[1 1 1 1 1 1 0 1 1 1 1 0 1 1 0 1 1 1 1 1 0 1 0 0 0 0 0 0 0 0]\n",
      " [0 0 0 0 1 1 1 0 1 1 1 1 0 1 1 0 0 0 0 0 1 0 1 1 1 1 1 1 1 1]]\n"
     ]
    }
   ],
   "source": [
    "print(X5.toarray())"
   ]
  },
  {
   "cell_type": "code",
   "execution_count": 29,
   "metadata": {},
   "outputs": [],
   "source": [
    "vectorizer6 = TfidfVectorizer(analyzer='word',ngram_range=(2,5), max_features = 10)"
   ]
  },
  {
   "cell_type": "code",
   "execution_count": 30,
   "metadata": {},
   "outputs": [],
   "source": [
    "X6 = vectorizer6.fit_transform(corpus)"
   ]
  },
  {
   "cell_type": "code",
   "execution_count": 31,
   "metadata": {},
   "outputs": [
    {
     "name": "stdout",
     "output_type": "stream",
     "text": [
      "['car is', 'driven on', 'driven on the', 'is driven', 'is driven on', 'is driven on the', 'on the', 'the highway', 'the road', 'the truck']\n"
     ]
    }
   ],
   "source": [
    "print(vectorizer6.get_feature_names())"
   ]
  },
  {
   "cell_type": "code",
   "execution_count": 32,
   "metadata": {},
   "outputs": [
    {
     "name": "stdout",
     "output_type": "stream",
     "text": [
      "[[0.44554752 0.31701073 0.31701073 0.31701073 0.31701073 0.31701073\n",
      "  0.31701073 0.         0.44554752 0.        ]\n",
      " [0.         0.31701073 0.31701073 0.31701073 0.31701073 0.31701073\n",
      "  0.31701073 0.44554752 0.         0.44554752]]\n"
     ]
    }
   ],
   "source": [
    "print(X6.toarray())"
   ]
  },
  {
   "cell_type": "code",
   "execution_count": null,
   "metadata": {},
   "outputs": [],
   "source": []
  },
  {
   "cell_type": "code",
   "execution_count": null,
   "metadata": {},
   "outputs": [],
   "source": []
  }
 ],
 "metadata": {
  "kernelspec": {
   "display_name": "Python 3",
   "language": "python",
   "name": "python3"
  },
  "language_info": {
   "codemirror_mode": {
    "name": "ipython",
    "version": 3
   },
   "file_extension": ".py",
   "mimetype": "text/x-python",
   "name": "python",
   "nbconvert_exporter": "python",
   "pygments_lexer": "ipython3",
   "version": "3.8.5"
  }
 },
 "nbformat": 4,
 "nbformat_minor": 2
}

#feature extraction has similar Json format. 
